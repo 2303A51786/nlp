{
  "nbformat": 4,
  "nbformat_minor": 0,
  "metadata": {
    "colab": {
      "provenance": [],
      "authorship_tag": "ABX9TyPo/rjDMaI0mj8oiRAtMGQ4",
      "include_colab_link": true
    },
    "kernelspec": {
      "name": "python3",
      "display_name": "Python 3"
    },
    "language_info": {
      "name": "python"
    }
  },
  "cells": [
    {
      "cell_type": "markdown",
      "metadata": {
        "id": "view-in-github",
        "colab_type": "text"
      },
      "source": [
        "<a href=\"https://colab.research.google.com/github/2303A51786/nlp/blob/main/ASS2_1786_NLP.ipynb\" target=\"_parent\"><img src=\"https://colab.research.google.com/assets/colab-badge.svg\" alt=\"Open In Colab\"/></a>"
      ]
    },
    {
      "cell_type": "code",
      "execution_count": null,
      "metadata": {
        "colab": {
          "base_uri": "https://localhost:8080/"
        },
        "id": "P2Kld4qzsj-m",
        "outputId": "2274c7ad-888f-4848-a8e3-695a3af3b4d1"
      },
      "outputs": [
        {
          "output_type": "stream",
          "name": "stdout",
          "text": [
            "Requirement already satisfied: spacy in /usr/local/lib/python3.12/dist-packages (3.8.7)\n",
            "Requirement already satisfied: spacy-legacy<3.1.0,>=3.0.11 in /usr/local/lib/python3.12/dist-packages (from spacy) (3.0.12)\n",
            "Requirement already satisfied: spacy-loggers<2.0.0,>=1.0.0 in /usr/local/lib/python3.12/dist-packages (from spacy) (1.0.5)\n",
            "Requirement already satisfied: murmurhash<1.1.0,>=0.28.0 in /usr/local/lib/python3.12/dist-packages (from spacy) (1.0.13)\n",
            "Requirement already satisfied: cymem<2.1.0,>=2.0.2 in /usr/local/lib/python3.12/dist-packages (from spacy) (2.0.11)\n",
            "Requirement already satisfied: preshed<3.1.0,>=3.0.2 in /usr/local/lib/python3.12/dist-packages (from spacy) (3.0.10)\n",
            "Requirement already satisfied: thinc<8.4.0,>=8.3.4 in /usr/local/lib/python3.12/dist-packages (from spacy) (8.3.6)\n",
            "Requirement already satisfied: wasabi<1.2.0,>=0.9.1 in /usr/local/lib/python3.12/dist-packages (from spacy) (1.1.3)\n",
            "Requirement already satisfied: srsly<3.0.0,>=2.4.3 in /usr/local/lib/python3.12/dist-packages (from spacy) (2.5.1)\n",
            "Requirement already satisfied: catalogue<2.1.0,>=2.0.6 in /usr/local/lib/python3.12/dist-packages (from spacy) (2.0.10)\n",
            "Requirement already satisfied: weasel<0.5.0,>=0.1.0 in /usr/local/lib/python3.12/dist-packages (from spacy) (0.4.1)\n",
            "Requirement already satisfied: typer<1.0.0,>=0.3.0 in /usr/local/lib/python3.12/dist-packages (from spacy) (0.16.0)\n",
            "Requirement already satisfied: tqdm<5.0.0,>=4.38.0 in /usr/local/lib/python3.12/dist-packages (from spacy) (4.67.1)\n",
            "Requirement already satisfied: numpy>=1.19.0 in /usr/local/lib/python3.12/dist-packages (from spacy) (2.0.2)\n",
            "Requirement already satisfied: requests<3.0.0,>=2.13.0 in /usr/local/lib/python3.12/dist-packages (from spacy) (2.32.3)\n",
            "Requirement already satisfied: pydantic!=1.8,!=1.8.1,<3.0.0,>=1.7.4 in /usr/local/lib/python3.12/dist-packages (from spacy) (2.11.7)\n",
            "Requirement already satisfied: jinja2 in /usr/local/lib/python3.12/dist-packages (from spacy) (3.1.6)\n",
            "Requirement already satisfied: setuptools in /usr/local/lib/python3.12/dist-packages (from spacy) (75.2.0)\n",
            "Requirement already satisfied: packaging>=20.0 in /usr/local/lib/python3.12/dist-packages (from spacy) (25.0)\n",
            "Requirement already satisfied: langcodes<4.0.0,>=3.2.0 in /usr/local/lib/python3.12/dist-packages (from spacy) (3.5.0)\n",
            "Requirement already satisfied: language-data>=1.2 in /usr/local/lib/python3.12/dist-packages (from langcodes<4.0.0,>=3.2.0->spacy) (1.3.0)\n",
            "Requirement already satisfied: annotated-types>=0.6.0 in /usr/local/lib/python3.12/dist-packages (from pydantic!=1.8,!=1.8.1,<3.0.0,>=1.7.4->spacy) (0.7.0)\n",
            "Requirement already satisfied: pydantic-core==2.33.2 in /usr/local/lib/python3.12/dist-packages (from pydantic!=1.8,!=1.8.1,<3.0.0,>=1.7.4->spacy) (2.33.2)\n",
            "Requirement already satisfied: typing-extensions>=4.12.2 in /usr/local/lib/python3.12/dist-packages (from pydantic!=1.8,!=1.8.1,<3.0.0,>=1.7.4->spacy) (4.14.1)\n",
            "Requirement already satisfied: typing-inspection>=0.4.0 in /usr/local/lib/python3.12/dist-packages (from pydantic!=1.8,!=1.8.1,<3.0.0,>=1.7.4->spacy) (0.4.1)\n",
            "Requirement already satisfied: charset-normalizer<4,>=2 in /usr/local/lib/python3.12/dist-packages (from requests<3.0.0,>=2.13.0->spacy) (3.4.3)\n",
            "Requirement already satisfied: idna<4,>=2.5 in /usr/local/lib/python3.12/dist-packages (from requests<3.0.0,>=2.13.0->spacy) (3.10)\n",
            "Requirement already satisfied: urllib3<3,>=1.21.1 in /usr/local/lib/python3.12/dist-packages (from requests<3.0.0,>=2.13.0->spacy) (2.5.0)\n",
            "Requirement already satisfied: certifi>=2017.4.17 in /usr/local/lib/python3.12/dist-packages (from requests<3.0.0,>=2.13.0->spacy) (2025.8.3)\n",
            "Requirement already satisfied: blis<1.4.0,>=1.3.0 in /usr/local/lib/python3.12/dist-packages (from thinc<8.4.0,>=8.3.4->spacy) (1.3.0)\n",
            "Requirement already satisfied: confection<1.0.0,>=0.0.1 in /usr/local/lib/python3.12/dist-packages (from thinc<8.4.0,>=8.3.4->spacy) (0.1.5)\n",
            "Requirement already satisfied: click>=8.0.0 in /usr/local/lib/python3.12/dist-packages (from typer<1.0.0,>=0.3.0->spacy) (8.2.1)\n",
            "Requirement already satisfied: shellingham>=1.3.0 in /usr/local/lib/python3.12/dist-packages (from typer<1.0.0,>=0.3.0->spacy) (1.5.4)\n",
            "Requirement already satisfied: rich>=10.11.0 in /usr/local/lib/python3.12/dist-packages (from typer<1.0.0,>=0.3.0->spacy) (13.9.4)\n",
            "Requirement already satisfied: cloudpathlib<1.0.0,>=0.7.0 in /usr/local/lib/python3.12/dist-packages (from weasel<0.5.0,>=0.1.0->spacy) (0.21.1)\n",
            "Requirement already satisfied: smart-open<8.0.0,>=5.2.1 in /usr/local/lib/python3.12/dist-packages (from weasel<0.5.0,>=0.1.0->spacy) (7.3.0.post1)\n",
            "Requirement already satisfied: MarkupSafe>=2.0 in /usr/local/lib/python3.12/dist-packages (from jinja2->spacy) (3.0.2)\n",
            "Requirement already satisfied: marisa-trie>=1.1.0 in /usr/local/lib/python3.12/dist-packages (from language-data>=1.2->langcodes<4.0.0,>=3.2.0->spacy) (1.2.1)\n",
            "Requirement already satisfied: markdown-it-py>=2.2.0 in /usr/local/lib/python3.12/dist-packages (from rich>=10.11.0->typer<1.0.0,>=0.3.0->spacy) (4.0.0)\n",
            "Requirement already satisfied: pygments<3.0.0,>=2.13.0 in /usr/local/lib/python3.12/dist-packages (from rich>=10.11.0->typer<1.0.0,>=0.3.0->spacy) (2.19.2)\n",
            "Requirement already satisfied: wrapt in /usr/local/lib/python3.12/dist-packages (from smart-open<8.0.0,>=5.2.1->weasel<0.5.0,>=0.1.0->spacy) (1.17.3)\n",
            "Requirement already satisfied: mdurl~=0.1 in /usr/local/lib/python3.12/dist-packages (from markdown-it-py>=2.2.0->rich>=10.11.0->typer<1.0.0,>=0.3.0->spacy) (0.1.2)\n"
          ]
        }
      ],
      "source": [
        "!pip install spacy\n",
        "import pandas as pd\n",
        "df=pd.read_csv('datatset_consumer_complaints.csv')"
      ]
    },
    {
      "cell_type": "code",
      "source": [
        "#d=df['Consumer Complaints']\n",
        "print(df)"
      ],
      "metadata": {
        "colab": {
          "base_uri": "https://localhost:8080/"
        },
        "id": "N2vHUJoVtkNx",
        "outputId": "8b587d42-548f-4d71-d1a5-8d034795a9f7"
      },
      "execution_count": null,
      "outputs": [
        {
          "output_type": "stream",
          "name": "stdout",
          "text": [
            "            ID                                 Company  \\\n",
            "0      1615767                            PHH Mortgage   \n",
            "1       654223                                   Ocwen   \n",
            "2      1143398          Southwest Credit Systems, L.P.   \n",
            "3      1303679        Continental Finance Company, LLC   \n",
            "4      1627370                                Experian   \n",
            "...        ...                                     ...   \n",
            "13995  1778257          Financial Credit Service, Inc.   \n",
            "13996   564605                                Experian   \n",
            "13997   527989                          BB&T Financial   \n",
            "13998  1883814                     Synchrony Financial   \n",
            "13999  1893702  TransUnion Intermediate Holdings, Inc.   \n",
            "\n",
            "                       Product                                     Issue  \\\n",
            "0                     Mortgage  Loan servicing, payments, escrow account   \n",
            "1                     Mortgage  Loan servicing, payments, escrow account   \n",
            "2              Debt collection  Loan modification,collection,foreclosure   \n",
            "3                  Credit card                         Billing statement   \n",
            "4             Credit reporting  Unable to get credit report/credit score   \n",
            "...                        ...                                       ...   \n",
            "13995          Debt collection  Loan modification,collection,foreclosure   \n",
            "13996         Credit reporting  Unable to get credit report/credit score   \n",
            "13997  Bank account or service                  Deposits and withdrawals   \n",
            "13998              Credit card                            Payoff process   \n",
            "13999         Credit reporting          Improper use of my credit report   \n",
            "\n",
            "      State Submitted via Date received Date resolved Timely response?  \\\n",
            "0        FL           Web    10/20/2015    10/20/2015              Yes   \n",
            "1        NC           Web      3/1/2014      3/1/2014              Yes   \n",
            "2        MO           Web     4/12/2014     4/12/2014              Yes   \n",
            "3        WA           Web    03/26/2015    03/26/2015              Yes   \n",
            "4        VA           Web    10/27/2015    10/27/2015              Yes   \n",
            "...     ...           ...           ...           ...              ...   \n",
            "13995    TX           Web      8/2/2016      8/2/2016              Yes   \n",
            "13996    WA           Web    10/21/2013    10/21/2013              Yes   \n",
            "13997    NJ           Web    09/13/2013    09/17/2013              Yes   \n",
            "13998    OH         Email    04/18/2016      5/5/2016              Yes   \n",
            "13999    NY           Web    04/24/2016    04/24/2016              Yes   \n",
            "\n",
            "      Consumer disputed?      state name Date received.1 Date resolved.1  \\\n",
            "0                     No         Florida      10/20/2015      10/20/2015   \n",
            "1                     No  North Carolina        1/3/2014        1/3/2014   \n",
            "2                     No        Missouri       12/4/2014       12/4/2014   \n",
            "3                     No      Washington       3/26/2015       3/26/2015   \n",
            "4                     No        Virginia      10/27/2015      10/27/2015   \n",
            "...                  ...             ...             ...             ...   \n",
            "13995                Yes           Texas        2/8/2016        2/8/2016   \n",
            "13996                 No      Washington      10/21/2013      10/21/2013   \n",
            "13997                 No      New Jersey       9/13/2013       9/17/2013   \n",
            "13998                 No            Ohio       4/18/2016        5/5/2016   \n",
            "13999                 No        New York       4/24/2016       4/24/2016   \n",
            "\n",
            "       Resolution time(in days)  Year QTR (US FLY)  \n",
            "0                             0  2015           Q4  \n",
            "1                             0  2014           Q1  \n",
            "2                             0  2014           Q4  \n",
            "3                             0  2015           Q1  \n",
            "4                             0  2015           Q4  \n",
            "...                         ...   ...          ...  \n",
            "13995                         0  2016           Q1  \n",
            "13996                         0  2013           Q4  \n",
            "13997                         4  2013           Q3  \n",
            "13998                        17  2016           Q2  \n",
            "13999                         0  2016           Q2  \n",
            "\n",
            "[14000 rows x 16 columns]\n"
          ]
        }
      ]
    },
    {
      "cell_type": "code",
      "source": [
        "dd=df['consumer_complaints']"
      ],
      "metadata": {
        "id": "9WNFPafYt28c"
      },
      "execution_count": null,
      "outputs": []
    },
    {
      "cell_type": "code",
      "source": [
        "print(dd)"
      ],
      "metadata": {
        "colab": {
          "base_uri": "https://localhost:8080/"
        },
        "id": "D-jtyX98um-r",
        "outputId": "467e27da-0295-4b9d-b5ef-55366421f289"
      },
      "execution_count": null,
      "outputs": [
        {
          "output_type": "stream",
          "name": "stdout",
          "text": [
            "0         No\n",
            "1         No\n",
            "2         No\n",
            "3         No\n",
            "4         No\n",
            "        ... \n",
            "13995    Yes\n",
            "13996     No\n",
            "13997     No\n",
            "13998     No\n",
            "13999     No\n",
            "Name: Consumer disputed?, Length: 14000, dtype: object\n"
          ]
        }
      ]
    },
    {
      "cell_type": "code",
      "source": [
        "d=dd.iloc[1]"
      ],
      "metadata": {
        "id": "YZLedlHPuo7g"
      },
      "execution_count": null,
      "outputs": []
    },
    {
      "cell_type": "code",
      "source": [
        "print(d)"
      ],
      "metadata": {
        "colab": {
          "base_uri": "https://localhost:8080/"
        },
        "id": "tSdnMvt9uuDY",
        "outputId": "3bd7e7c4-d3be-40a6-e07f-692539b12ad7"
      },
      "execution_count": null,
      "outputs": [
        {
          "output_type": "stream",
          "name": "stdout",
          "text": [
            "No\n"
          ]
        }
      ]
    },
    {
      "cell_type": "code",
      "source": [
        "import spacy\n",
        "nlp=spacy.load('en_core_web_sm')"
      ],
      "metadata": {
        "id": "uTUGM4EluzDg"
      },
      "execution_count": null,
      "outputs": []
    },
    {
      "cell_type": "code",
      "source": [
        "doc=nlp(d)"
      ],
      "metadata": {
        "id": "OphV4-b9u7zP"
      },
      "execution_count": null,
      "outputs": []
    },
    {
      "cell_type": "code",
      "source": [
        "for i in doc:\n",
        "    print(i.text,\"==\", i.pos_)"
      ],
      "metadata": {
        "colab": {
          "base_uri": "https://localhost:8080/"
        },
        "id": "edG4oZ0gvAuC",
        "outputId": "5d2e470b-0335-4826-acf9-a4063caa87eb"
      },
      "execution_count": null,
      "outputs": [
        {
          "output_type": "stream",
          "name": "stdout",
          "text": [
            "No == INTJ\n"
          ]
        }
      ]
    },
    {
      "cell_type": "code",
      "source": [
        "print(df.head(25))"
      ],
      "metadata": {
        "colab": {
          "base_uri": "https://localhost:8080/"
        },
        "id": "ukBw3pmnvHFX",
        "outputId": "bcabeffe-a3e6-4ff1-fc05-573a02af0b35"
      },
      "execution_count": null,
      "outputs": [
        {
          "output_type": "stream",
          "name": "stdout",
          "text": [
            "         ID                                 Company                  Product  \\\n",
            "0   1615767                            PHH Mortgage                 Mortgage   \n",
            "1    654223                                   Ocwen                 Mortgage   \n",
            "2   1143398          Southwest Credit Systems, L.P.          Debt collection   \n",
            "3   1303679        Continental Finance Company, LLC              Credit card   \n",
            "4   1627370                                Experian         Credit reporting   \n",
            "5   1390231                    Encore Capital Group          Debt collection   \n",
            "6   1946542           Regions Financial Corporation                 Mortgage   \n",
            "7   1414270                               AES/PHEAA             Student loan   \n",
            "8    310830                    JPMorgan Chase & Co.              Credit card   \n",
            "9   1734499                                 Equifax         Credit reporting   \n",
            "10  1744309                    JPMorgan Chase & Co.  Bank account or service   \n",
            "11  1154103                         Bank of America              Credit card   \n",
            "12   581301                   Stellar Recovery Inc.          Debt collection   \n",
            "13  1577224                       LDF Holdings, LLC              Payday loan   \n",
            "14  1631370      Carrington Mortgage Holdings, LLC.                 Mortgage   \n",
            "15  1994209                                Citibank  Bank account or service   \n",
            "16  2152909                  Selip & Stylianou, LLP          Debt collection   \n",
            "17   465476                             Capital One  Bank account or service   \n",
            "18  2055350  TransUnion Intermediate Holdings, Inc.         Credit reporting   \n",
            "19   382848                     Nationstar Mortgage                 Mortgage   \n",
            "20  1204170                                Citibank                 Mortgage   \n",
            "21  1774653                   Wells Fargo & Company                 Mortgage   \n",
            "22  2079223                            U.S. Bancorp  Bank account or service   \n",
            "23   656295                         Bank of America  Bank account or service   \n",
            "24  1983337                            Barclays PLC          Debt collection   \n",
            "\n",
            "                                       Issue State Submitted via  \\\n",
            "0   Loan servicing, payments, escrow account    FL           Web   \n",
            "1   Loan servicing, payments, escrow account    NC           Web   \n",
            "2   Loan modification,collection,foreclosure    MO           Web   \n",
            "3                          Billing statement    WA           Web   \n",
            "4   Unable to get credit report/credit score    VA           Web   \n",
            "5         False statements or representation    IL           Web   \n",
            "6   Application, originator, mortgage broker    FL           Web   \n",
            "7         Dealing with my lender or servicer    OK           Web   \n",
            "8                           Credit reporting    CA           Web   \n",
            "9   Credit reporting company's investigation    CA           Web   \n",
            "10                  Deposits and withdrawals    AZ         Email   \n",
            "11                                   Rewards    MO           Web   \n",
            "12  Loan modification,collection,foreclosure    NY         Email   \n",
            "13  Charged fees or interest I didn't expect    MD           Web   \n",
            "14  Loan servicing, payments, escrow account    FL           Web   \n",
            "15   Account opening, closing, or management    MO           Web   \n",
            "16      Taking/threatening an illegal action    NY           Web   \n",
            "17   Account opening, closing, or management    AK           Web   \n",
            "18  Credit reporting company's investigation    NC           Web   \n",
            "19  Loan servicing, payments, escrow account    CA           Web   \n",
            "20  Loan servicing, payments, escrow account    NJ         Email   \n",
            "21  Loan servicing, payments, escrow account    TX   Postal mail   \n",
            "22  Making/receiving payments, sending money    CA           Web   \n",
            "23     Problems caused by my funds being low    GA           Web   \n",
            "24  Loan modification,collection,foreclosure    CA         Email   \n",
            "\n",
            "   Date received Date resolved Timely response? Consumer disputed?  \\\n",
            "0     10/20/2015    10/20/2015              Yes                 No   \n",
            "1       3/1/2014      3/1/2014              Yes                 No   \n",
            "2      4/12/2014     4/12/2014              Yes                 No   \n",
            "3     03/26/2015    03/26/2015              Yes                 No   \n",
            "4     10/27/2015    10/27/2015              Yes                 No   \n",
            "5     05/23/2015    05/23/2015              Yes                 No   \n",
            "6     05/30/2016    05/31/2016              Yes                 No   \n",
            "7      10/6/2015     10/6/2015              Yes                 No   \n",
            "8       8/2/2013      8/2/2013              Yes                 No   \n",
            "9       8/1/2016      8/1/2016              Yes                 No   \n",
            "10    01/15/2016    01/20/2016              Yes                 No   \n",
            "11    12/12/2014    12/12/2014              Yes                 No   \n",
            "12     1/11/2013     1/11/2013              Yes                Yes   \n",
            "13    09/23/2015    10/22/2015              Yes                 No   \n",
            "14    10/29/2015    10/29/2015              Yes                 No   \n",
            "15    06/30/2016    06/30/2016              Yes                 No   \n",
            "16     9/10/2016     9/10/2016              Yes                Yes   \n",
            "17    07/24/2013    07/26/2013              Yes                 No   \n",
            "18     11/8/2016     11/8/2016              Yes                 No   \n",
            "19    04/15/2013    06/19/2013              Yes                 No   \n",
            "20    01/22/2015    01/27/2015              Yes                 No   \n",
            "21      5/2/2016      5/2/2016              Yes                 No   \n",
            "22    08/25/2016    08/25/2016              Yes                 No   \n",
            "23      6/1/2014      6/1/2014              Yes                 No   \n",
            "24    06/23/2016    06/27/2016              Yes                 No   \n",
            "\n",
            "        state name Date received.1 Date resolved.1  Resolution time(in days)  \\\n",
            "0          Florida      10/20/2015      10/20/2015                         0   \n",
            "1   North Carolina        1/3/2014        1/3/2014                         0   \n",
            "2         Missouri       12/4/2014       12/4/2014                         0   \n",
            "3       Washington       3/26/2015       3/26/2015                         0   \n",
            "4         Virginia      10/27/2015      10/27/2015                         0   \n",
            "5         Illinois       5/23/2015       5/23/2015                         0   \n",
            "6          Florida       5/30/2016       5/31/2016                         1   \n",
            "7         Oklahoma       6/10/2015       6/10/2015                         0   \n",
            "8       California        2/8/2013        2/8/2013                         0   \n",
            "9       California        1/8/2016        1/8/2016                         0   \n",
            "10         Arizona       1/15/2016       1/20/2016                         5   \n",
            "11        Missouri      12/12/2014      12/12/2014                         0   \n",
            "12        New York       11/1/2013       11/1/2013                         0   \n",
            "13        Maryland       9/23/2015      10/22/2015                        29   \n",
            "14         Florida      10/29/2015      10/29/2015                         0   \n",
            "15        Missouri       6/30/2016       6/30/2016                         0   \n",
            "16        New York       10/9/2016       10/9/2016                         0   \n",
            "17          Alaska       7/24/2013       7/26/2013                         2   \n",
            "18  North Carolina       8/11/2016       8/11/2016                         0   \n",
            "19      California       4/15/2013       6/19/2013                        65   \n",
            "20      New Jersey       1/22/2015       1/27/2015                         5   \n",
            "21           Texas        2/5/2016        2/5/2016                         0   \n",
            "22      California       8/25/2016       8/25/2016                         0   \n",
            "23         Georgia        1/6/2014        1/6/2014                         0   \n",
            "24      California       6/23/2016       6/27/2016                         4   \n",
            "\n",
            "    Year QTR (US FLY)  \n",
            "0   2015           Q4  \n",
            "1   2014           Q1  \n",
            "2   2014           Q4  \n",
            "3   2015           Q1  \n",
            "4   2015           Q4  \n",
            "5   2015           Q2  \n",
            "6   2016           Q2  \n",
            "7   2015           Q2  \n",
            "8   2013           Q1  \n",
            "9   2016           Q1  \n",
            "10  2016           Q1  \n",
            "11  2014           Q4  \n",
            "12  2013           Q4  \n",
            "13  2015           Q3  \n",
            "14  2015           Q4  \n",
            "15  2016           Q2  \n",
            "16  2016           Q4  \n",
            "17  2013           Q3  \n",
            "18  2016           Q3  \n",
            "19  2013           Q2  \n",
            "20  2015           Q1  \n",
            "21  2016           Q1  \n",
            "22  2016           Q3  \n",
            "23  2014           Q1  \n",
            "24  2016           Q2  \n"
          ]
        }
      ]
    },
    {
      "cell_type": "code",
      "source": [
        "df['char_count'] = df['Consumer disputed?'].fillna('').apply(len)\n",
        "df['word_count'] = df['Consumer disputed?'].fillna('').apply(lambda x: len(x.split()))"
      ],
      "metadata": {
        "id": "mbvO3kJHvXmV"
      },
      "execution_count": null,
      "outputs": []
    },
    {
      "cell_type": "code",
      "source": [
        "print(df[['Consumer disputed?', 'char_count', 'word_count']])"
      ],
      "metadata": {
        "colab": {
          "base_uri": "https://localhost:8080/"
        },
        "id": "GI_fgmmcvwmS",
        "outputId": "6d60f682-fb11-4fb3-dbc6-64b0b65c0729"
      },
      "execution_count": null,
      "outputs": [
        {
          "output_type": "stream",
          "name": "stdout",
          "text": [
            "      Consumer disputed?  char_count  word_count\n",
            "0                     No           2           1\n",
            "1                     No           2           1\n",
            "2                     No           2           1\n",
            "3                     No           2           1\n",
            "4                     No           2           1\n",
            "...                  ...         ...         ...\n",
            "13995                Yes           3           1\n",
            "13996                 No           2           1\n",
            "13997                 No           2           1\n",
            "13998                 No           2           1\n",
            "13999                 No           2           1\n",
            "\n",
            "[14000 rows x 3 columns]\n"
          ]
        }
      ]
    },
    {
      "cell_type": "code",
      "source": [
        "text={\"My phone number is 1234567890 and my email is test@domain.com\"\n",
        "\n",
        "\"Visit https://example.com for more info!!!\"\n",
        "\n",
        "\"HELLO!!! This is SOOOOO exciting :))\"\n",
        "\n",
        "\"Contact us at info@company.org or call +91 98765-43210\"\n",
        "\n",
        "\"Python's regex is very useful!!!  #Coding #Fun\"\n",
        "\n",
        "}"
      ],
      "metadata": {
        "id": "_1EVDVLsv_W2"
      },
      "execution_count": null,
      "outputs": []
    },
    {
      "cell_type": "code",
      "source": [
        "print(text)"
      ],
      "metadata": {
        "colab": {
          "base_uri": "https://localhost:8080/"
        },
        "id": "Po9WOFjrwBnR",
        "outputId": "7d9990a7-8f7b-4e43-9049-2da670983326"
      },
      "execution_count": null,
      "outputs": [
        {
          "output_type": "stream",
          "name": "stdout",
          "text": [
            "{\"My phone number is 1234567890 and my email is test@domain.comVisit https://example.com for more info!!!HELLO!!! This is SOOOOO exciting :))Contact us at info@company.org or call +91 98765-43210Python's regex is very useful!!!  #Coding #Fun\"}\n"
          ]
        }
      ]
    },
    {
      "cell_type": "code",
      "source": [],
      "metadata": {
        "id": "uaDjYe41x8ko"
      },
      "execution_count": null,
      "outputs": []
    },
    {
      "cell_type": "code",
      "source": [
        "import re\n",
        "\n",
        "for item in text:\n",
        "    phones = re.findall(r'\\d{10}', item)\n",
        "    print(\"phones found:\", phones)"
      ],
      "metadata": {
        "colab": {
          "base_uri": "https://localhost:8080/"
        },
        "id": "J2jshhwsyOlr",
        "outputId": "b0339f8a-0af3-4020-a642-ac2d53e942ff"
      },
      "execution_count": null,
      "outputs": [
        {
          "output_type": "stream",
          "name": "stdout",
          "text": [
            "phones found: ['1234567890']\n"
          ]
        }
      ]
    },
    {
      "cell_type": "code",
      "source": [
        "import re\n",
        "for item in text:\n",
        "    emails = re.findall(r'[\\w\\.-]+@[\\w\\.-]+', item)\n",
        "    print(\"emails found:\", emails)\n"
      ],
      "metadata": {
        "colab": {
          "base_uri": "https://localhost:8080/"
        },
        "id": "0vr2FlUoyRTs",
        "outputId": "1c27a577-490b-4bdb-bb7a-0a5c7e5d1fac"
      },
      "execution_count": null,
      "outputs": [
        {
          "output_type": "stream",
          "name": "stdout",
          "text": [
            "emails found: ['test@domain.comVisit', 'info@company.org']\n"
          ]
        }
      ]
    },
    {
      "cell_type": "code",
      "source": [
        "import re\n",
        "for item in text:\n",
        "    URL=re.findall(r'https?://\\S+', item)\n",
        "    print(\"URL found:\", URL)"
      ],
      "metadata": {
        "colab": {
          "base_uri": "https://localhost:8080/"
        },
        "id": "z2XHWBAXyVS2",
        "outputId": "260b15a0-c1cb-457c-9af2-1b9b60c56102"
      },
      "execution_count": null,
      "outputs": [
        {
          "output_type": "stream",
          "name": "stdout",
          "text": [
            "URL found: ['https://example.com']\n"
          ]
        }
      ]
    },
    {
      "cell_type": "code",
      "source": [
        "import re\n",
        "for item in text:\n",
        "    special_characters=re.findall(r'[^\\w\\s]', item)\n",
        "    print(\"special characters found:\", special_characters)"
      ],
      "metadata": {
        "colab": {
          "base_uri": "https://localhost:8080/"
        },
        "id": "MFAgTOhmyZts",
        "outputId": "13031354-3766-4d9e-db71-12f3e3b647a9"
      },
      "execution_count": null,
      "outputs": [
        {
          "output_type": "stream",
          "name": "stdout",
          "text": [
            "special characters found: ['@', '.', ':', '/', '/', '.', '!', '!', '!', '!', '!', '!', ':', ')', ')', '@', '.', '+', '-', \"'\", '!', '!', '!', '#', '#']\n"
          ]
        }
      ]
    }
  ]
}