{
  "nbformat": 4,
  "nbformat_minor": 0,
  "metadata": {
    "colab": {
      "provenance": [],
      "authorship_tag": "ABX9TyNXFzTgHp85+THu0kmgKd7b",
      "include_colab_link": true
    },
    "kernelspec": {
      "name": "python3",
      "display_name": "Python 3"
    },
    "language_info": {
      "name": "python"
    }
  },
  "cells": [
    {
      "cell_type": "markdown",
      "metadata": {
        "id": "view-in-github",
        "colab_type": "text"
      },
      "source": [
        "<a href=\"https://colab.research.google.com/github/2303A51786/nlp/blob/main/ASS6_NLP_1786.ipynb\" target=\"_parent\"><img src=\"https://colab.research.google.com/assets/colab-badge.svg\" alt=\"Open In Colab\"/></a>"
      ]
    },
    {
      "cell_type": "code",
      "execution_count": 2,
      "metadata": {
        "colab": {
          "base_uri": "https://localhost:8080/"
        },
        "id": "x3IEPnYHxYhS",
        "outputId": "6b2e6bbf-dbd5-4359-d744-22a0ef5e44e4"
      },
      "outputs": [
        {
          "output_type": "stream",
          "name": "stderr",
          "text": [
            "[nltk_data] Downloading package stopwords to /root/nltk_data...\n",
            "[nltk_data]   Package stopwords is already up-to-date!\n"
          ]
        },
        {
          "output_type": "stream",
          "name": "stdout",
          "text": [
            "Epoch 1/3\n"
          ]
        },
        {
          "output_type": "stream",
          "name": "stderr",
          "text": [
            "/usr/local/lib/python3.12/dist-packages/keras/src/layers/core/embedding.py:97: UserWarning: Argument `input_length` is deprecated. Just remove it.\n",
            "  warnings.warn(\n"
          ]
        },
        {
          "output_type": "stream",
          "name": "stdout",
          "text": [
            "\u001b[1m128/128\u001b[0m \u001b[32m━━━━━━━━━━━━━━━━━━━━\u001b[0m\u001b[37m\u001b[0m \u001b[1m3s\u001b[0m 9ms/step - accuracy: 0.7922 - loss: 0.4952 - val_accuracy: 0.7912 - val_loss: 0.5099\n",
            "Epoch 2/3\n",
            "\u001b[1m128/128\u001b[0m \u001b[32m━━━━━━━━━━━━━━━━━━━━\u001b[0m\u001b[37m\u001b[0m \u001b[1m3s\u001b[0m 11ms/step - accuracy: 0.8195 - loss: 0.4692 - val_accuracy: 0.7912 - val_loss: 0.5073\n",
            "Epoch 3/3\n",
            "\u001b[1m128/128\u001b[0m \u001b[32m━━━━━━━━━━━━━━━━━━━━\u001b[0m\u001b[37m\u001b[0m \u001b[1m1s\u001b[0m 8ms/step - accuracy: 0.8140 - loss: 0.4738 - val_accuracy: 0.7912 - val_loss: 0.5053\n",
            "Epoch 1/3\n",
            "\u001b[1m128/128\u001b[0m \u001b[32m━━━━━━━━━━━━━━━━━━━━\u001b[0m\u001b[37m\u001b[0m \u001b[1m8s\u001b[0m 52ms/step - accuracy: 0.8023 - loss: 0.5127 - val_accuracy: 0.8505 - val_loss: 0.3644\n",
            "Epoch 2/3\n",
            "\u001b[1m128/128\u001b[0m \u001b[32m━━━━━━━━━━━━━━━━━━━━\u001b[0m\u001b[37m\u001b[0m \u001b[1m8s\u001b[0m 33ms/step - accuracy: 0.9079 - loss: 0.2434 - val_accuracy: 0.8923 - val_loss: 0.3043\n",
            "Epoch 3/3\n",
            "\u001b[1m128/128\u001b[0m \u001b[32m━━━━━━━━━━━━━━━━━━━━\u001b[0m\u001b[37m\u001b[0m \u001b[1m5s\u001b[0m 36ms/step - accuracy: 0.9707 - loss: 0.0937 - val_accuracy: 0.8890 - val_loss: 0.4007\n",
            "Epoch 1/3\n",
            "\u001b[1m128/128\u001b[0m \u001b[32m━━━━━━━━━━━━━━━━━━━━\u001b[0m\u001b[37m\u001b[0m \u001b[1m22s\u001b[0m 136ms/step - accuracy: 0.8045 - loss: 0.5172 - val_accuracy: 0.7912 - val_loss: 0.5131\n",
            "Epoch 2/3\n",
            "\u001b[1m128/128\u001b[0m \u001b[32m━━━━━━━━━━━━━━━━━━━━\u001b[0m\u001b[37m\u001b[0m \u001b[1m21s\u001b[0m 136ms/step - accuracy: 0.8240 - loss: 0.4664 - val_accuracy: 0.7912 - val_loss: 0.5135\n",
            "Epoch 3/3\n",
            "\u001b[1m128/128\u001b[0m \u001b[32m━━━━━━━━━━━━━━━━━━━━\u001b[0m\u001b[37m\u001b[0m \u001b[1m20s\u001b[0m 134ms/step - accuracy: 0.8190 - loss: 0.4742 - val_accuracy: 0.7912 - val_loss: 0.5132\n",
            "\u001b[1m72/72\u001b[0m \u001b[32m━━━━━━━━━━━━━━━━━━━━\u001b[0m\u001b[37m\u001b[0m \u001b[1m0s\u001b[0m 4ms/step\n",
            "===== MLP =====\n",
            "              precision    recall  f1-score   support\n",
            "\n",
            "           0       0.81      1.00      0.90      1851\n",
            "           1       0.00      0.00      0.00       423\n",
            "\n",
            "    accuracy                           0.81      2274\n",
            "   macro avg       0.41      0.50      0.45      2274\n",
            "weighted avg       0.66      0.81      0.73      2274\n",
            "\n",
            "\u001b[1m 1/72\u001b[0m \u001b[37m━━━━━━━━━━━━━━━━━━━━\u001b[0m \u001b[1m7s\u001b[0m 107ms/step"
          ]
        },
        {
          "output_type": "stream",
          "name": "stderr",
          "text": [
            "/usr/local/lib/python3.12/dist-packages/sklearn/metrics/_classification.py:1565: UndefinedMetricWarning: Precision is ill-defined and being set to 0.0 in labels with no predicted samples. Use `zero_division` parameter to control this behavior.\n",
            "  _warn_prf(average, modifier, f\"{metric.capitalize()} is\", len(result))\n",
            "/usr/local/lib/python3.12/dist-packages/sklearn/metrics/_classification.py:1565: UndefinedMetricWarning: Precision is ill-defined and being set to 0.0 in labels with no predicted samples. Use `zero_division` parameter to control this behavior.\n",
            "  _warn_prf(average, modifier, f\"{metric.capitalize()} is\", len(result))\n",
            "/usr/local/lib/python3.12/dist-packages/sklearn/metrics/_classification.py:1565: UndefinedMetricWarning: Precision is ill-defined and being set to 0.0 in labels with no predicted samples. Use `zero_division` parameter to control this behavior.\n",
            "  _warn_prf(average, modifier, f\"{metric.capitalize()} is\", len(result))\n"
          ]
        },
        {
          "output_type": "stream",
          "name": "stdout",
          "text": [
            "\u001b[1m72/72\u001b[0m \u001b[32m━━━━━━━━━━━━━━━━━━━━\u001b[0m\u001b[37m\u001b[0m \u001b[1m1s\u001b[0m 10ms/step\n",
            "===== CNN =====\n",
            "              precision    recall  f1-score   support\n",
            "\n",
            "           0       0.90      0.95      0.93      1851\n",
            "           1       0.73      0.55      0.63       423\n",
            "\n",
            "    accuracy                           0.88      2274\n",
            "   macro avg       0.82      0.75      0.78      2274\n",
            "weighted avg       0.87      0.88      0.87      2274\n",
            "\n",
            "\u001b[1m72/72\u001b[0m \u001b[32m━━━━━━━━━━━━━━━━━━━━\u001b[0m\u001b[37m\u001b[0m \u001b[1m2s\u001b[0m 23ms/step\n",
            "===== LSTM =====\n",
            "              precision    recall  f1-score   support\n",
            "\n",
            "           0       0.81      1.00      0.90      1851\n",
            "           1       0.00      0.00      0.00       423\n",
            "\n",
            "    accuracy                           0.81      2274\n",
            "   macro avg       0.41      0.50      0.45      2274\n",
            "weighted avg       0.66      0.81      0.73      2274\n",
            "\n",
            "===== Logistic Regression (TF-IDF) =====\n",
            "              precision    recall  f1-score   support\n",
            "\n",
            "           0       0.87      0.99      0.93      1851\n",
            "           1       0.87      0.36      0.51       423\n",
            "\n",
            "    accuracy                           0.87      2274\n",
            "   macro avg       0.87      0.67      0.72      2274\n",
            "weighted avg       0.87      0.87      0.85      2274\n",
            "\n"
          ]
        },
        {
          "output_type": "stream",
          "name": "stderr",
          "text": [
            "/usr/local/lib/python3.12/dist-packages/sklearn/metrics/_classification.py:1565: UndefinedMetricWarning: Precision is ill-defined and being set to 0.0 in labels with no predicted samples. Use `zero_division` parameter to control this behavior.\n",
            "  _warn_prf(average, modifier, f\"{metric.capitalize()} is\", len(result))\n",
            "/usr/local/lib/python3.12/dist-packages/sklearn/metrics/_classification.py:1565: UndefinedMetricWarning: Precision is ill-defined and being set to 0.0 in labels with no predicted samples. Use `zero_division` parameter to control this behavior.\n",
            "  _warn_prf(average, modifier, f\"{metric.capitalize()} is\", len(result))\n",
            "/usr/local/lib/python3.12/dist-packages/sklearn/metrics/_classification.py:1565: UndefinedMetricWarning: Precision is ill-defined and being set to 0.0 in labels with no predicted samples. Use `zero_division` parameter to control this behavior.\n",
            "  _warn_prf(average, modifier, f\"{metric.capitalize()} is\", len(result))\n"
          ]
        },
        {
          "output_type": "stream",
          "name": "stdout",
          "text": [
            "===== SVM (TF-IDF) =====\n",
            "              precision    recall  f1-score   support\n",
            "\n",
            "           0       0.89      0.97      0.93      1851\n",
            "           1       0.79      0.48      0.60       423\n",
            "\n",
            "    accuracy                           0.88      2274\n",
            "   macro avg       0.84      0.73      0.77      2274\n",
            "weighted avg       0.87      0.88      0.87      2274\n",
            "\n"
          ]
        }
      ],
      "source": [
        "import pandas as pd\n",
        "import numpy as np\n",
        "import re\n",
        "import string\n",
        "\n",
        "from sklearn.model_selection import train_test_split\n",
        "from sklearn.feature_extraction.text import CountVectorizer, TfidfVectorizer\n",
        "from sklearn.metrics import accuracy_score, precision_score, recall_score, f1_score, classification_report\n",
        "from sklearn.linear_model import LogisticRegression\n",
        "from sklearn.svm import SVC\n",
        "\n",
        "import nltk\n",
        "from nltk.corpus import stopwords\n",
        "from tensorflow.keras.preprocessing.text import Tokenizer\n",
        "from tensorflow.keras.preprocessing.sequence import pad_sequences\n",
        "from tensorflow.keras.models import Sequential\n",
        "from tensorflow.keras.layers import Dense, Embedding, GlobalAveragePooling1D, Conv1D, GlobalMaxPooling1D, LSTM, Dropout\n",
        "\n",
        "# Download stopwords\n",
        "nltk.download('stopwords')\n",
        "stop_words = set(stopwords.words('english'))\n",
        "\n",
        "# Load dataset\n",
        "df = pd.read_csv(\"/content/tweets.csv\")\n",
        "\n",
        "# ================== 1. PREPROCESSING ==================\n",
        "def clean_text(text):\n",
        "    text = text.lower()\n",
        "    text = re.sub(r'@[A-Za-z0-9_]+', '', text)  # remove mentions\n",
        "    text = re.sub(r'#', '', text)               # remove hashtags symbol\n",
        "    text = re.sub(r'http\\S+|www.\\S+', '', text) # remove URLs\n",
        "    text = re.sub(r'[^a-z\\s]', '', text)       # remove punctuation & numbers\n",
        "    tokens = text.split()\n",
        "    tokens = [word for word in tokens if word not in stop_words]\n",
        "    return \" \".join(tokens)\n",
        "\n",
        "df['clean_text'] = df['text'].apply(clean_text)\n",
        "\n",
        "X = df['clean_text'].values\n",
        "y = df['target'].values\n",
        "\n",
        "# Train-test split\n",
        "X_train, X_test, y_train, y_test = train_test_split(X, y, test_size=0.2, random_state=42, stratify=y)\n",
        "\n",
        "# ================== 2. FEATURE EXTRACTION ==================\n",
        "# CountVectorizer\n",
        "count_vectorizer = CountVectorizer()\n",
        "X_train_count = count_vectorizer.fit_transform(X_train)\n",
        "X_test_count = count_vectorizer.transform(X_test)\n",
        "\n",
        "# TF-IDF\n",
        "tfidf_vectorizer = TfidfVectorizer(max_features=5000)\n",
        "X_train_tfidf = tfidf_vectorizer.fit_transform(X_train)\n",
        "X_test_tfidf = tfidf_vectorizer.transform(X_test)\n",
        "\n",
        "# Tokenizer + padding\n",
        "max_words = 10000\n",
        "max_len = 100\n",
        "tokenizer = Tokenizer(num_words=max_words, oov_token=\"<OOV>\")\n",
        "tokenizer.fit_on_texts(X_train)\n",
        "\n",
        "X_train_seq = tokenizer.texts_to_sequences(X_train)\n",
        "X_test_seq = tokenizer.texts_to_sequences(X_test)\n",
        "\n",
        "X_train_pad = pad_sequences(X_train_seq, maxlen=max_len, padding='post')\n",
        "X_test_pad = pad_sequences(X_test_seq, maxlen=max_len, padding='post')\n",
        "\n",
        "# ================== 3. MODELS ==================\n",
        "# --- MLP on averaged embeddings ---\n",
        "mlp_model = Sequential([\n",
        "    Embedding(input_dim=max_words, output_dim=50, input_length=max_len),\n",
        "    GlobalAveragePooling1D(),\n",
        "    Dense(64, activation='relu'),\n",
        "    Dense(1, activation='sigmoid')\n",
        "])\n",
        "mlp_model.compile(loss='binary_crossentropy', optimizer='adam', metrics=['accuracy'])\n",
        "mlp_model.fit(X_train_pad, y_train, epochs=3, batch_size=64, validation_split=0.1, verbose=1)\n",
        "\n",
        "# --- CNN ---\n",
        "cnn_model = Sequential([\n",
        "    Embedding(input_dim=max_words, output_dim=50, input_length=max_len),\n",
        "    Conv1D(128, 5, activation='relu'),\n",
        "    GlobalMaxPooling1D(),\n",
        "    Dense(64, activation='relu'),\n",
        "    Dense(1, activation='sigmoid')\n",
        "])\n",
        "cnn_model.compile(loss='binary_crossentropy', optimizer='adam', metrics=['accuracy'])\n",
        "cnn_model.fit(X_train_pad, y_train, epochs=3, batch_size=64, validation_split=0.1, verbose=1)\n",
        "\n",
        "# --- LSTM ---\n",
        "lstm_model = Sequential([\n",
        "    Embedding(input_dim=max_words, output_dim=50, input_length=max_len),\n",
        "    LSTM(64, dropout=0.2, recurrent_dropout=0.2),\n",
        "    Dense(1, activation='sigmoid')\n",
        "])\n",
        "lstm_model.compile(loss='binary_crossentropy', optimizer='adam', metrics=['accuracy'])\n",
        "lstm_model.fit(X_train_pad, y_train, epochs=3, batch_size=64, validation_split=0.1, verbose=1)\n",
        "\n",
        "# ================== 4. EVALUATION ==================\n",
        "def evaluate_model(model, X_test, y_test, model_name):\n",
        "    y_pred = (model.predict(X_test) > 0.5).astype(\"int32\")\n",
        "    print(f\"===== {model_name} =====\")\n",
        "    print(classification_report(y_test, y_pred))\n",
        "\n",
        "evaluate_model(mlp_model, X_test_pad, y_test, \"MLP\")\n",
        "evaluate_model(cnn_model, X_test_pad, y_test, \"CNN\")\n",
        "evaluate_model(lstm_model, X_test_pad, y_test, \"LSTM\")\n",
        "\n",
        "# Logistic Regression with TF-IDF\n",
        "log_reg = LogisticRegression(max_iter=200)\n",
        "log_reg.fit(X_train_tfidf, y_train)\n",
        "y_pred_lr = log_reg.predict(X_test_tfidf)\n",
        "print(\"===== Logistic Regression (TF-IDF) =====\")\n",
        "print(classification_report(y_test, y_pred_lr))\n",
        "\n",
        "# SVM with TF-IDF\n",
        "svm_model = SVC(kernel='linear')\n",
        "svm_model.fit(X_train_tfidf, y_train)\n",
        "y_pred_svm = svm_model.predict(X_test_tfidf)\n",
        "print(\"===== SVM (TF-IDF) =====\")\n",
        "print(classification_report(y_test, y_pred_svm))"
      ]
    }
  ]
}